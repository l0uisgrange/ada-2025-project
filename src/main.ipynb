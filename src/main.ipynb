{
 "cells": [
  {
   "metadata": {},
   "cell_type": "markdown",
   "source": [
    "# ADA Semester Project\n",
    "\n",
    "This represents the project for the CS-401 course at EPFL, done by:\n",
    "\n",
    "| SCIPER                                              | Name                      |\n",
    "|:----------------------------------------------------|:--------------------------|\n",
    "| [356420](https://people.epfl.ch/badr.almahouri)     | Badr Al Mahouri           |\n",
    "| [341237](https://people.epfl.ch/louis.grange)       | Louis Grange              |\n",
    "| [340497](https://people.epfl.ch/daniel.alvesataide) | Daniel Ataíde             |\n",
    "| [329310](https://people.epfl.ch/arnaud.tadic)       | Arnaud Jacques Yves Tadic |\n",
    "| [308396](https://people.epfl.ch/yuri.cho)           | Yuri Cho                  |\n",
    "\n",
    "## Install dependencies"
   ],
   "id": "84e6c0b0d75731b1"
  },
  {
   "metadata": {
    "ExecuteTime": {
     "end_time": "2025-10-01T12:08:03.700456Z",
     "start_time": "2025-10-01T12:08:03.144512Z"
    }
   },
   "cell_type": "code",
   "source": "!pip3 install pandas -q",
   "id": "8838c10478906425",
   "outputs": [],
   "execution_count": 19
  },
  {
   "metadata": {
    "ExecuteTime": {
     "end_time": "2025-10-01T12:08:04.256589Z",
     "start_time": "2025-10-01T12:08:04.252819Z"
    }
   },
   "cell_type": "code",
   "source": "import pandas as pd",
   "id": "5a6c5a0dcfa19bc4",
   "outputs": [],
   "execution_count": 20
  },
  {
   "metadata": {},
   "cell_type": "markdown",
   "source": [
    "## Import dataset\n",
    "\n",
    "We can first import the data from the downloaded dataset. If you didn't download it, just do it [here](https://snap.stanford.edu/data/soc-RedditHyperlinks.html)."
   ],
   "id": "14fc091e64a60b80"
  },
  {
   "metadata": {
    "ExecuteTime": {
     "end_time": "2025-10-01T12:15:41.020095Z",
     "start_time": "2025-10-01T12:15:37.315549Z"
    }
   },
   "cell_type": "code",
   "source": [
    "BODY_HYPERLINKS_DATA = \"../data/soc-redditHyperlinks-body.tsv\"\n",
    "TITLE_HYPERLINKS_DATA = \"../data/soc-redditHyperlinks-title.tsv\"\n",
    "\n",
    "body_data = pd.read_csv(BODY_HYPERLINKS_DATA, sep='\\t', parse_dates=['TIMESTAMP'])\n",
    "title_data = pd.read_csv(TITLE_HYPERLINKS_DATA, sep='\\t', parse_dates=['TIMESTAMP'])\n",
    "\n",
    "print(len(body_data), \"elements imported from\", BODY_HYPERLINKS_DATA)\n",
    "print(len(title_data), \"elements imported from\", TITLE_HYPERLINKS_DATA)"
   ],
   "id": "59c1795778e3528a",
   "outputs": [
    {
     "name": "stdout",
     "output_type": "stream",
     "text": [
      "286561 elements imported from ../data/soc-redditHyperlinks-body.tsv\n",
      "571927 elements imported from ../data/soc-redditHyperlinks-title.tsv\n"
     ]
    }
   ],
   "execution_count": 34
  },
  {
   "metadata": {},
   "cell_type": "markdown",
   "source": "and then check if the data has been correctly imported",
   "id": "7f688521fe817129"
  },
  {
   "metadata": {
    "ExecuteTime": {
     "end_time": "2025-10-01T12:12:52.799022Z",
     "start_time": "2025-10-01T12:12:52.793230Z"
    }
   },
   "cell_type": "code",
   "source": "title_data.head()",
   "id": "a7e78102f9dd1092",
   "outputs": [
    {
     "data": {
      "text/plain": [
       "  SOURCE_SUBREDDIT TARGET_SUBREDDIT  POST_ID           TIMESTAMP  \\\n",
       "0  leagueoflegends  teamredditteams  1u4nrps 2013-12-31 16:39:58   \n",
       "1       theredlion           soccer   1u4qkd 2013-12-31 18:18:37   \n",
       "2     inlandempire           bikela  1u4qlzs 2014-01-01 14:54:35   \n",
       "3              nfl              cfb  1u4sjvs 2013-12-31 17:37:55   \n",
       "4       playmygame          gamedev  1u4w5ss 2014-01-01 02:51:13   \n",
       "\n",
       "   LINK_SENTIMENT                                         PROPERTIES  \n",
       "0               1  345.0,298.0,0.75652173913,0.0173913043478,0.08...  \n",
       "1              -1  101.0,98.0,0.742574257426,0.019801980198,0.049...  \n",
       "2               1  85.0,85.0,0.752941176471,0.0235294117647,0.082...  \n",
       "3               1  1124.0,949.0,0.772241992883,0.0017793594306,0....  \n",
       "4               1  715.0,622.0,0.777622377622,0.00699300699301,0....  "
      ],
      "text/html": [
       "<div>\n",
       "<style scoped>\n",
       "    .dataframe tbody tr th:only-of-type {\n",
       "        vertical-align: middle;\n",
       "    }\n",
       "\n",
       "    .dataframe tbody tr th {\n",
       "        vertical-align: top;\n",
       "    }\n",
       "\n",
       "    .dataframe thead th {\n",
       "        text-align: right;\n",
       "    }\n",
       "</style>\n",
       "<table border=\"1\" class=\"dataframe\">\n",
       "  <thead>\n",
       "    <tr style=\"text-align: right;\">\n",
       "      <th></th>\n",
       "      <th>SOURCE_SUBREDDIT</th>\n",
       "      <th>TARGET_SUBREDDIT</th>\n",
       "      <th>POST_ID</th>\n",
       "      <th>TIMESTAMP</th>\n",
       "      <th>LINK_SENTIMENT</th>\n",
       "      <th>PROPERTIES</th>\n",
       "    </tr>\n",
       "  </thead>\n",
       "  <tbody>\n",
       "    <tr>\n",
       "      <th>0</th>\n",
       "      <td>leagueoflegends</td>\n",
       "      <td>teamredditteams</td>\n",
       "      <td>1u4nrps</td>\n",
       "      <td>2013-12-31 16:39:58</td>\n",
       "      <td>1</td>\n",
       "      <td>345.0,298.0,0.75652173913,0.0173913043478,0.08...</td>\n",
       "    </tr>\n",
       "    <tr>\n",
       "      <th>1</th>\n",
       "      <td>theredlion</td>\n",
       "      <td>soccer</td>\n",
       "      <td>1u4qkd</td>\n",
       "      <td>2013-12-31 18:18:37</td>\n",
       "      <td>-1</td>\n",
       "      <td>101.0,98.0,0.742574257426,0.019801980198,0.049...</td>\n",
       "    </tr>\n",
       "    <tr>\n",
       "      <th>2</th>\n",
       "      <td>inlandempire</td>\n",
       "      <td>bikela</td>\n",
       "      <td>1u4qlzs</td>\n",
       "      <td>2014-01-01 14:54:35</td>\n",
       "      <td>1</td>\n",
       "      <td>85.0,85.0,0.752941176471,0.0235294117647,0.082...</td>\n",
       "    </tr>\n",
       "    <tr>\n",
       "      <th>3</th>\n",
       "      <td>nfl</td>\n",
       "      <td>cfb</td>\n",
       "      <td>1u4sjvs</td>\n",
       "      <td>2013-12-31 17:37:55</td>\n",
       "      <td>1</td>\n",
       "      <td>1124.0,949.0,0.772241992883,0.0017793594306,0....</td>\n",
       "    </tr>\n",
       "    <tr>\n",
       "      <th>4</th>\n",
       "      <td>playmygame</td>\n",
       "      <td>gamedev</td>\n",
       "      <td>1u4w5ss</td>\n",
       "      <td>2014-01-01 02:51:13</td>\n",
       "      <td>1</td>\n",
       "      <td>715.0,622.0,0.777622377622,0.00699300699301,0....</td>\n",
       "    </tr>\n",
       "  </tbody>\n",
       "</table>\n",
       "</div>"
      ]
     },
     "execution_count": 26,
     "metadata": {},
     "output_type": "execute_result"
    }
   ],
   "execution_count": 26
  },
  {
   "metadata": {
    "ExecuteTime": {
     "end_time": "2025-10-01T12:15:50.046944Z",
     "start_time": "2025-10-01T12:15:50.039589Z"
    }
   },
   "cell_type": "code",
   "source": "body_data.head()",
   "id": "c2bab1a121daca87",
   "outputs": [
    {
     "data": {
      "text/plain": [
       "  SOURCE_SUBREDDIT TARGET_SUBREDDIT  POST_ID           TIMESTAMP  \\\n",
       "0  leagueoflegends  teamredditteams  1u4nrps 2013-12-31 16:39:58   \n",
       "1       theredlion           soccer   1u4qkd 2013-12-31 18:18:37   \n",
       "2     inlandempire           bikela  1u4qlzs 2014-01-01 14:54:35   \n",
       "3              nfl              cfb  1u4sjvs 2013-12-31 17:37:55   \n",
       "4       playmygame          gamedev  1u4w5ss 2014-01-01 02:51:13   \n",
       "\n",
       "   LINK_SENTIMENT                                         PROPERTIES  \n",
       "0               1  345.0,298.0,0.75652173913,0.0173913043478,0.08...  \n",
       "1              -1  101.0,98.0,0.742574257426,0.019801980198,0.049...  \n",
       "2               1  85.0,85.0,0.752941176471,0.0235294117647,0.082...  \n",
       "3               1  1124.0,949.0,0.772241992883,0.0017793594306,0....  \n",
       "4               1  715.0,622.0,0.777622377622,0.00699300699301,0....  "
      ],
      "text/html": [
       "<div>\n",
       "<style scoped>\n",
       "    .dataframe tbody tr th:only-of-type {\n",
       "        vertical-align: middle;\n",
       "    }\n",
       "\n",
       "    .dataframe tbody tr th {\n",
       "        vertical-align: top;\n",
       "    }\n",
       "\n",
       "    .dataframe thead th {\n",
       "        text-align: right;\n",
       "    }\n",
       "</style>\n",
       "<table border=\"1\" class=\"dataframe\">\n",
       "  <thead>\n",
       "    <tr style=\"text-align: right;\">\n",
       "      <th></th>\n",
       "      <th>SOURCE_SUBREDDIT</th>\n",
       "      <th>TARGET_SUBREDDIT</th>\n",
       "      <th>POST_ID</th>\n",
       "      <th>TIMESTAMP</th>\n",
       "      <th>LINK_SENTIMENT</th>\n",
       "      <th>PROPERTIES</th>\n",
       "    </tr>\n",
       "  </thead>\n",
       "  <tbody>\n",
       "    <tr>\n",
       "      <th>0</th>\n",
       "      <td>leagueoflegends</td>\n",
       "      <td>teamredditteams</td>\n",
       "      <td>1u4nrps</td>\n",
       "      <td>2013-12-31 16:39:58</td>\n",
       "      <td>1</td>\n",
       "      <td>345.0,298.0,0.75652173913,0.0173913043478,0.08...</td>\n",
       "    </tr>\n",
       "    <tr>\n",
       "      <th>1</th>\n",
       "      <td>theredlion</td>\n",
       "      <td>soccer</td>\n",
       "      <td>1u4qkd</td>\n",
       "      <td>2013-12-31 18:18:37</td>\n",
       "      <td>-1</td>\n",
       "      <td>101.0,98.0,0.742574257426,0.019801980198,0.049...</td>\n",
       "    </tr>\n",
       "    <tr>\n",
       "      <th>2</th>\n",
       "      <td>inlandempire</td>\n",
       "      <td>bikela</td>\n",
       "      <td>1u4qlzs</td>\n",
       "      <td>2014-01-01 14:54:35</td>\n",
       "      <td>1</td>\n",
       "      <td>85.0,85.0,0.752941176471,0.0235294117647,0.082...</td>\n",
       "    </tr>\n",
       "    <tr>\n",
       "      <th>3</th>\n",
       "      <td>nfl</td>\n",
       "      <td>cfb</td>\n",
       "      <td>1u4sjvs</td>\n",
       "      <td>2013-12-31 17:37:55</td>\n",
       "      <td>1</td>\n",
       "      <td>1124.0,949.0,0.772241992883,0.0017793594306,0....</td>\n",
       "    </tr>\n",
       "    <tr>\n",
       "      <th>4</th>\n",
       "      <td>playmygame</td>\n",
       "      <td>gamedev</td>\n",
       "      <td>1u4w5ss</td>\n",
       "      <td>2014-01-01 02:51:13</td>\n",
       "      <td>1</td>\n",
       "      <td>715.0,622.0,0.777622377622,0.00699300699301,0....</td>\n",
       "    </tr>\n",
       "  </tbody>\n",
       "</table>\n",
       "</div>"
      ]
     },
     "execution_count": 35,
     "metadata": {},
     "output_type": "execute_result"
    }
   ],
   "execution_count": 35
  },
  {
   "metadata": {},
   "cell_type": "code",
   "outputs": [],
   "execution_count": null,
   "source": "",
   "id": "5ca35f14a3d0b369"
  }
 ],
 "metadata": {
  "kernelspec": {
   "display_name": "Python 3",
   "language": "python",
   "name": "python3"
  },
  "language_info": {
   "codemirror_mode": {
    "name": "ipython",
    "version": 2
   },
   "file_extension": ".py",
   "mimetype": "text/x-python",
   "name": "python",
   "nbconvert_exporter": "python",
   "pygments_lexer": "ipython2",
   "version": "2.7.6"
  }
 },
 "nbformat": 4,
 "nbformat_minor": 5
}
