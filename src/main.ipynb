{
 "cells": [
  {
   "metadata": {},
   "cell_type": "markdown",
   "source": [
    "# ADA Semester Project\n",
    "\n",
    "This represents the project for the CS-401 course at EPFL, done by:\n",
    "\n",
    "| SCIPER                                              | Name                      |\n",
    "|:----------------------------------------------------|:--------------------------|\n",
    "| [356420](https://people.epfl.ch/badr.almahouri)     | Badr Al Mahouri           |\n",
    "| [341237](https://people.epfl.ch/louis.grange)       | Louis Grange              |\n",
    "| [340497](https://people.epfl.ch/daniel.alvesataide) | Daniel Ataíde             |\n",
    "| [329310](https://people.epfl.ch/arnaud.tadic)       | Arnaud Jacques Yves Tadic |\n",
    "| [308396](https://people.epfl.ch/yuri.cho)           | Yuri Cho                  |\n",
    "\n",
    "## Install dependencies"
   ],
   "id": "84e6c0b0d75731b1"
  },
  {
   "metadata": {},
   "cell_type": "code",
   "source": "!pip3 install pandas -q",
   "id": "8838c10478906425",
   "outputs": [],
   "execution_count": null
  },
  {
   "metadata": {},
   "cell_type": "code",
   "source": "import pandas as pd",
   "id": "5a6c5a0dcfa19bc4",
   "outputs": [],
   "execution_count": null
  },
  {
   "metadata": {},
   "cell_type": "markdown",
   "source": [
    "## Import dataset\n",
    "\n",
    "We can first import the data from the downloaded dataset. If you didn't download it, just do it [here](https://snap.stanford.edu/data/soc-RedditHyperlinks.html)."
   ],
   "id": "14fc091e64a60b80"
  },
  {
   "metadata": {},
   "cell_type": "code",
   "source": [
    "BODY_HYPERLINKS_DATA = \"../data/soc-redditHyperlinks-body.tsv\"\n",
    "TITLE_HYPERLINKS_DATA = \"../data/soc-redditHyperlinks-title.tsv\"\n",
    "\n",
    "body_data = pd.read_csv(BODY_HYPERLINKS_DATA, sep='\\t', parse_dates=['TIMESTAMP'])\n",
    "title_data = pd.read_csv(TITLE_HYPERLINKS_DATA, sep='\\t', parse_dates=['TIMESTAMP'])\n",
    "\n",
    "print(len(body_data), \"elements imported from\", BODY_HYPERLINKS_DATA)\n",
    "print(len(title_data), \"elements imported from\", TITLE_HYPERLINKS_DATA)"
   ],
   "id": "59c1795778e3528a",
   "outputs": [],
   "execution_count": null
  },
  {
   "metadata": {},
   "cell_type": "markdown",
   "source": "and then check if the data has been correctly imported",
   "id": "7f688521fe817129"
  },
  {
   "metadata": {},
   "cell_type": "code",
   "source": "title_data.head()",
   "id": "a7e78102f9dd1092",
   "outputs": [],
   "execution_count": null
  },
  {
   "metadata": {},
   "cell_type": "code",
   "source": "body_data.head()",
   "id": "c2bab1a121daca87",
   "outputs": [],
   "execution_count": null
  }
 ],
 "metadata": {
  "kernelspec": {
   "display_name": "Python 3",
   "language": "python",
   "name": "python3"
  },
  "language_info": {
   "codemirror_mode": {
    "name": "ipython",
    "version": 2
   },
   "file_extension": ".py",
   "mimetype": "text/x-python",
   "name": "python",
   "nbconvert_exporter": "python",
   "pygments_lexer": "ipython2",
   "version": "2.7.6"
  }
 },
 "nbformat": 4,
 "nbformat_minor": 5
}
